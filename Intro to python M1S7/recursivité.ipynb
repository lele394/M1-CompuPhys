{
 "cells": [
  {
   "cell_type": "markdown",
   "id": "73578241",
   "metadata": {},
   "source": [
    "# Récursivité"
   ]
  },
  {
   "cell_type": "markdown",
   "id": "a8655e6e",
   "metadata": {},
   "source": [
    "Write the factorial function using a recursive function."
   ]
  },
  {
   "cell_type": "code",
   "execution_count": null,
   "id": "5845f1c2",
   "metadata": {},
   "outputs": [],
   "source": []
  },
  {
   "cell_type": "markdown",
   "id": "51a0adfa",
   "metadata": {},
   "source": [
    "Write a program that reads two integers from the input and displays the first integer surrounded by as many pairs of square brackets '[' and ']' as indicated by the value of the second number.\n",
    "\n",
    "Your program must use a recursive function and not a loop.\n",
    "\n",
    "input = 42 3\n",
    "\n",
    "output = [[[42]]]\n"
   ]
  },
  {
   "cell_type": "code",
   "execution_count": null,
   "id": "9ffff883",
   "metadata": {},
   "outputs": [],
   "source": []
  },
  {
   "cell_type": "markdown",
   "id": "54ea969b",
   "metadata": {},
   "source": [
    "Write a program that reads a line of text from the standard input and displays this line in reverse order, starting with the last character.\n",
    "\n",
    "Your program must use a recursive function and not a loop.\n",
    "\n",
    "input='bonjour'\n",
    "\n",
    "output='ruojnob'"
   ]
  },
  {
   "cell_type": "code",
   "execution_count": null,
   "id": "bcf8be87",
   "metadata": {},
   "outputs": [],
   "source": []
  },
  {
   "cell_type": "markdown",
   "id": "5e83c7cf",
   "metadata": {},
   "source": [
    " Calculate the Sum of an Array\n",
    "\n",
    "Write a recursive function in Python that takes an array of integers as input and returns the sum of all elements in the array.\n",
    "\n",
    "Here's an example function structure to get started:\n",
    "def sum_array(arr, index):\n",
    "    # Base case: if the index is out of bounds of the array, return 0\n",
    "    # Otherwise, add the element to the sum and recursively move to the next index\n",
    "    pass\n",
    "\n",
    "\n",
    "Your task is to complete the sum_array function so that it correctly calculates the sum of all elements in the array using recursion."
   ]
  },
  {
   "cell_type": "code",
   "execution_count": null,
   "id": "20bf2e7a",
   "metadata": {},
   "outputs": [],
   "source": [
    "# Example usage:\n",
    "array = [1, 2, 3, 4, 5]\n",
    "result = sum_array(array, 0)\n",
    "print(\"The sum of the array is:\", result)\n"
   ]
  },
  {
   "cell_type": "code",
   "execution_count": null,
   "id": "1705b575",
   "metadata": {},
   "outputs": [],
   "source": []
  },
  {
   "cell_type": "markdown",
   "id": "37833b6d",
   "metadata": {},
   "source": [
    "Write a program that, given a list of provided letters, generates all possible words of a given size, composed only of letters from the list. Each letter can appear multiple times.\n",
    "\n",
    "The list of letters that can be used is provided to you in alphabetical order. These are only lowercase unaccented letters. You should also provide your list in alphabetical order.\n",
    "\n",
    "input : \\\n",
    "4 \\\n",
    "bimp \\\n",
    "2 \\\n",
    "\n",
    "output: \\\n",
    "16 \\\n",
    "bb \\\n",
    "bi \\\n",
    "bm \\\n",
    "bp \\\n",
    "ib \\\n",
    "ii \\\n",
    "im \\\n",
    "ip \\\n",
    "mb \\\n",
    "mi \\\n",
    "mm \\\n",
    "mp \\\n",
    "pb \\\n",
    "pi \\\n",
    "pm \\\n",
    "pp \\\n",
    "\n"
   ]
  },
  {
   "cell_type": "code",
   "execution_count": null,
   "id": "9d56b734",
   "metadata": {},
   "outputs": [],
   "source": []
  }
 ],
 "metadata": {
  "kernelspec": {
   "display_name": "Python 3 (ipykernel)",
   "language": "python",
   "name": "python3"
  },
  "language_info": {
   "codemirror_mode": {
    "name": "ipython",
    "version": 3
   },
   "file_extension": ".py",
   "mimetype": "text/x-python",
   "name": "python",
   "nbconvert_exporter": "python",
   "pygments_lexer": "ipython3",
   "version": "3.10.6"
  }
 },
 "nbformat": 4,
 "nbformat_minor": 5
}
