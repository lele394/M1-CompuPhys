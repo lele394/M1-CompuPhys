{
 "cells": [
  {
   "cell_type": "markdown",
   "metadata": {
    "slideshow": {
     "slide_type": "slide"
    }
   },
   "source": [
    "# Linux console\n",
    "&nbsp;\n",
    "<center>\n",
    "<b>An introduction</b>\n",
    "</center>\n",
    "&nbsp;\n",
    "<center>\n",
    "</center>"
   ]
  },
  {
   "cell_type": "markdown",
   "metadata": {},
   "source": [
    "# Linux"
   ]
  },
  {
   "cell_type": "markdown",
   "metadata": {},
   "source": [
    "Linux is an operating system just like Windows; Mac OS X developed by Linus Torvalds in 1991. Operating system is the interface between the software and the hardware. It provides services for the applications and manages computer hardware. Initially, Linux was just an operating system but now it became the platform to run desktops, embedded systems, and servers.\n",
    "Let us now discuss some advantages of Linux in brief:\n",
    "1.   Open Source\n",
    "2.   Security\n",
    "3.   Robust\n",
    "4. free\n",
    "5. Customization\n",
    "6. Large Community Support\n",
    "7. Stability\n",
    "8. Performance"
   ]
  },
  {
   "cell_type": "markdown",
   "metadata": {},
   "source": [
    "<img src=\"kernel.png\">\n",
    "Source: https://biosalley.com/fr/depannage-du-noyau-linux/"
   ]
  },
  {
   "cell_type": "markdown",
   "metadata": {},
   "source": [
    "# Console"
   ]
  },
  {
   "cell_type": "markdown",
   "metadata": {},
   "source": [
    "For some helps about command, use the command **man** , for example man command"
   ]
  },
  {
   "cell_type": "markdown",
   "metadata": {
    "slideshow": {
     "slide_type": "slide"
    }
   },
   "source": [
    "# Where Am I ?\n",
    "\n",
    "Where am I?\n",
    "The first command we are going to learn is pwd which stands for Print Working Directory\n",
    "**P**rint **W**orking **D**irectory: pwd"
   ]
  },
  {
   "cell_type": "code",
   "execution_count": 1,
   "metadata": {
    "slideshow": {
     "slide_type": "fragment"
    }
   },
   "outputs": [
    {
     "data": {
      "text/plain": [
       "'/home/leo/Desktop'"
      ]
     },
     "execution_count": 1,
     "metadata": {},
     "output_type": "execute_result"
    }
   ],
   "source": [
    "pwd"
   ]
  },
  {
   "cell_type": "markdown",
   "metadata": {},
   "source": [
    "**ls** : to list file in the directory (no hidden file)"
   ]
  },
  {
   "cell_type": "code",
   "execution_count": 2,
   "metadata": {},
   "outputs": [
    {
     "name": "stdout",
     "output_type": "stream",
     "text": [
      "05_shell.ipynb  \u001b[0m\u001b[01;34mnodes_network_ig\u001b[0m/\r\n"
     ]
    }
   ],
   "source": [
    "ls"
   ]
  },
  {
   "cell_type": "markdown",
   "metadata": {},
   "source": [
    "The hidden file begin with \".\""
   ]
  },
  {
   "cell_type": "markdown",
   "metadata": {},
   "source": [
    "With the help of man, list all files with list long format including hidden files in readable file size"
   ]
  },
  {
   "cell_type": "code",
   "execution_count": 7,
   "metadata": {},
   "outputs": [
    {
     "name": "stdout",
     "output_type": "stream",
     "text": [
      "\u001b[0m\u001b[01;34m.\u001b[0m/   05_shell.ipynb  \u001b[01;34m.ipynb_checkpoints\u001b[0m/  .yolo.txt.swp\r\n",
      "\u001b[01;34m..\u001b[0m/  .directory      \u001b[01;34mnodes_network_ig\u001b[0m/\r\n"
     ]
    }
   ],
   "source": [
    "ls -a -h"
   ]
  },
  {
   "cell_type": "markdown",
   "metadata": {},
   "source": [
    "### Changing the Working Directory\n",
    "There are 2 types of paths we can use, absolute and relative. Whenever we refer to a file or directory we are using one of these paths. Whenever we refer to a file or directory, we can, in fact, use either type of path. \n",
    "\n",
    "**C**hange **D**irectory : we change directory with the command **cd**\n",
    "Example: **cd directory**\n",
    "\n",
    "To go in partent directory: **../directory**\n"
   ]
  },
  {
   "cell_type": "markdown",
   "metadata": {},
   "source": [
    "Change to the *root* directory  /root (absolute path)"
   ]
  },
  {
   "cell_type": "code",
   "execution_count": 1,
   "metadata": {
    "slideshow": {
     "slide_type": "fragment"
    }
   },
   "outputs": [
    {
     "name": "stdout",
     "output_type": "stream",
     "text": [
      "/root\n"
     ]
    }
   ],
   "source": [
    "cd /root"
   ]
  },
  {
   "cell_type": "markdown",
   "metadata": {},
   "source": [
    "Change to the user home directory  in relative path with and without the alias ~"
   ]
  },
  {
   "cell_type": "code",
   "execution_count": 3,
   "metadata": {
    "slideshow": {
     "slide_type": "fragment"
    }
   },
   "outputs": [
    {
     "name": "stdout",
     "output_type": "stream",
     "text": [
      "/usr\n"
     ]
    }
   ],
   "source": [
    "cd ../usr"
   ]
  },
  {
   "cell_type": "markdown",
   "metadata": {},
   "source": [
    "Change to parent directory"
   ]
  },
  {
   "cell_type": "code",
   "execution_count": 5,
   "metadata": {},
   "outputs": [
    {
     "name": "stdout",
     "output_type": "stream",
     "text": [
      "/\n"
     ]
    }
   ],
   "source": [
    "cd .."
   ]
  },
  {
   "cell_type": "markdown",
   "metadata": {},
   "source": [
    "Change to the user \"home directory\""
   ]
  },
  {
   "cell_type": "code",
   "execution_count": 6,
   "metadata": {},
   "outputs": [
    {
     "name": "stdout",
     "output_type": "stream",
     "text": [
      "/home\n"
     ]
    }
   ],
   "source": [
    "cd /home"
   ]
  },
  {
   "cell_type": "markdown",
   "metadata": {},
   "source": [
    "**Multiple relative path**"
   ]
  },
  {
   "cell_type": "markdown",
   "metadata": {},
   "source": [
    "Go to the parent of parent directory"
   ]
  },
  {
   "cell_type": "code",
   "execution_count": 9,
   "metadata": {},
   "outputs": [
    {
     "name": "stdout",
     "output_type": "stream",
     "text": [
      "/\n"
     ]
    }
   ],
   "source": [
    "cd ../.."
   ]
  },
  {
   "cell_type": "markdown",
   "metadata": {},
   "source": [
    "GO to the folder /etc from your home path"
   ]
  },
  {
   "cell_type": "code",
   "execution_count": 12,
   "metadata": {},
   "outputs": [
    {
     "name": "stdout",
     "output_type": "stream",
     "text": [
      "/etc\n"
     ]
    }
   ],
   "source": [
    "cd /etc"
   ]
  },
  {
   "cell_type": "markdown",
   "metadata": {},
   "source": [
    "List file in the directory /etc/network"
   ]
  },
  {
   "cell_type": "code",
   "execution_count": 22,
   "metadata": {},
   "outputs": [
    {
     "name": "stdout",
     "output_type": "stream",
     "text": [
      "\u001b[0m\u001b[01;34mif-down.d\u001b[0m/  \u001b[01;34mif-post-down.d\u001b[0m/  \u001b[01;34mif-pre-up.d\u001b[0m/  \u001b[01;34mif-up.d\u001b[0m/\r\n"
     ]
    }
   ],
   "source": [
    "ls"
   ]
  },
  {
   "cell_type": "markdown",
   "metadata": {},
   "source": [
    "### Creating deleting directories\n",
    "In this section we’re going to create some real files to work with. First, we create a new directory with the mkdir command **m**a**k**e **dir**ectory"
   ]
  },
  {
   "cell_type": "markdown",
   "metadata": {},
   "source": [
    "- Create the directory \"Test\" in your user home directory"
   ]
  },
  {
   "cell_type": "code",
   "execution_count": 24,
   "metadata": {},
   "outputs": [],
   "source": [
    "mkdir /home/Test"
   ]
  },
  {
   "cell_type": "markdown",
   "metadata": {},
   "source": [
    "**r**e**m**ove **dir**ectory \"TEST\""
   ]
  },
  {
   "cell_type": "code",
   "execution_count": 27,
   "metadata": {},
   "outputs": [
    {
     "name": "stdout",
     "output_type": "stream",
     "text": [
      "rmdir: failed to remove '/home/Test': No such file or directory\r\n"
     ]
    }
   ],
   "source": [
    "rmdir /home/Test"
   ]
  },
  {
   "cell_type": "markdown",
   "metadata": {},
   "source": [
    "### Files\n",
    "create 3 empty file in a directory TEST (file1, file 2, file3) with the **touch** command"
   ]
  },
  {
   "cell_type": "code",
   "execution_count": 46,
   "metadata": {
    "scrolled": true
   },
   "outputs": [
    {
     "ename": "SyntaxError",
     "evalue": "invalid syntax (2439548828.py, line 1)",
     "output_type": "error",
     "traceback": [
      "\u001b[0;36m  File \u001b[0;32m\"/tmp/ipykernel_10005/2439548828.py\"\u001b[0;36m, line \u001b[0;32m1\u001b[0m\n\u001b[0;31m    touch file1\u001b[0m\n\u001b[0m          ^\u001b[0m\n\u001b[0;31mSyntaxError\u001b[0m\u001b[0;31m:\u001b[0m invalid syntax\n"
     ]
    }
   ],
   "source": [
    "touch file1"
   ]
  },
  {
   "cell_type": "markdown",
   "metadata": {},
   "source": [
    "**Now, we would want to write \"Hello world\" in gile hello.world.txt**"
   ]
  },
  {
   "cell_type": "markdown",
   "metadata": {},
   "source": [
    "You may redirect output via the symbol > \n",
    "Example: **echo \"Hello World\" > hello_world.txt**"
   ]
  },
  {
   "cell_type": "code",
   "execution_count": null,
   "metadata": {},
   "outputs": [],
   "source": []
  },
  {
   "cell_type": "markdown",
   "metadata": {},
   "source": [
    "View file content\n",
    "**cat**, **more** or **less**"
   ]
  },
  {
   "cell_type": "code",
   "execution_count": 19,
   "metadata": {},
   "outputs": [
    {
     "name": "stdout",
     "output_type": "stream",
     "text": [
      "Hello World\n"
     ]
    }
   ],
   "source": [
    "cat hello_world.txt"
   ]
  },
  {
   "cell_type": "code",
   "execution_count": null,
   "metadata": {},
   "outputs": [],
   "source": [
    "If you want add the message to the end of the file, use >> :"
   ]
  },
  {
   "cell_type": "markdown",
   "metadata": {},
   "source": [
    "Append to the file hello_world.txt, the word \"CompuPhys\""
   ]
  },
  {
   "cell_type": "code",
   "execution_count": null,
   "metadata": {},
   "outputs": [],
   "source": []
  },
  {
   "cell_type": "markdown",
   "metadata": {},
   "source": [
    "### Moving, renaming files or directories\n",
    "**m**o**v**e :\n",
    "``` mv $SRC_PATH $DST_PATH```\n",
    "### Deleting file or directory\n",
    "rm :\n",
    "``` rm $PATH```\n",
    "copy file :\n",
    "``` cp $SRC_PATH $DST_PATH```"
   ]
  },
  {
   "cell_type": "markdown",
   "metadata": {},
   "source": [
    "Copy files in TEST in a new directory TEST2"
   ]
  },
  {
   "cell_type": "code",
   "execution_count": null,
   "metadata": {},
   "outputs": [],
   "source": []
  },
  {
   "cell_type": "markdown",
   "metadata": {},
   "source": [
    "### Deleting files\n",
    "**r**e**m**ove file1"
   ]
  },
  {
   "cell_type": "code",
   "execution_count": null,
   "metadata": {},
   "outputs": [],
   "source": []
  },
  {
   "cell_type": "markdown",
   "metadata": {},
   "source": [
    "### Hidden files/directories\n",
    "Create a file .hidefle , with help of 'ls' comment what is the mean of \".\" in begin of the name"
   ]
  },
  {
   "cell_type": "code",
   "execution_count": null,
   "metadata": {},
   "outputs": [],
   "source": []
  },
  {
   "cell_type": "markdown",
   "metadata": {},
   "source": [
    "# Usefull commands"
   ]
  },
  {
   "cell_type": "markdown",
   "metadata": {},
   "source": [
    "``` wc ``` : **w**ord **c**ount, numbers of words or lines in a file\n",
    "\n",
    "``` sort ``` : sort lines\n",
    "\n",
    "``` uniq ``` : do not allow consecutive lines to be equals\n",
    "\n",
    "``` head ``` : the first lines of a file\n",
    "\n",
    "``` tail ``` : the last lines of a file\n",
    "\n",
    "``` tree ``` : print the full sub-tree\n",
    "\n",
    "``` less ``` : view the content of a file, you can search, scroll, ...\n",
    "\n",
    "``` grep ``` : search a file using \"regular expressions\"\n",
    "\n",
    "``` awk ``` : Awk is a scripting language used for manipulating data. Example: Select some column in a file"
   ]
  },
  {
   "cell_type": "code",
   "execution_count": null,
   "metadata": {},
   "outputs": [],
   "source": []
  },
  {
   "cell_type": "markdown",
   "metadata": {},
   "source": [
    "# Combining commands\n",
    "Connect your commands with a pipe : ``` | ```"
   ]
  },
  {
   "cell_type": "markdown",
   "metadata": {},
   "source": [
    "First, create a file letter.txt :"
   ]
  },
  {
   "cell_type": "code",
   "execution_count": 8,
   "metadata": {},
   "outputs": [
    {
     "name": "stdout",
     "output_type": "stream",
     "text": [
      "\n",
      "\n",
      "\n",
      "n\n",
      "a\n",
      "n\n",
      "a\n",
      "z\n",
      "e\n",
      "f\n",
      "z\n",
      "e\n",
      "f\n",
      "\n"
     ]
    }
   ],
   "source": [
    "echo -e \"n\\na\\nn\\na\\nz\\ne\\nf\\nz\\ne\\nf\" > letters.txt\n",
    "cat letters.txt"
   ]
  },
  {
   "cell_type": "markdown",
   "metadata": {},
   "source": [
    "Sort the file letters.txt"
   ]
  },
  {
   "cell_type": "code",
   "execution_count": null,
   "metadata": {},
   "outputs": [],
   "source": []
  },
  {
   "cell_type": "markdown",
   "metadata": {},
   "source": [
    "Sort letter.txt without consective equal line with help of pipe :"
   ]
  },
  {
   "cell_type": "code",
   "execution_count": null,
   "metadata": {},
   "outputs": [],
   "source": []
  },
  {
   "cell_type": "markdown",
   "metadata": {},
   "source": [
    "Application : Count the number of distinct letter in letters.txt and export this variable in the environment variable NUMBER_OF_LINES"
   ]
  },
  {
   "cell_type": "code",
   "execution_count": null,
   "metadata": {},
   "outputs": [],
   "source": []
  },
  {
   "cell_type": "markdown",
   "metadata": {},
   "source": [
    "# Script Bash"
   ]
  },
  {
   "cell_type": "markdown",
   "metadata": {},
   "source": [
    "Shell scripting is an important part of process automation in Linux. Scripting helps you write a sequence of commands in a file and then execute them.\n",
    "\n",
    "This saves you time because you don't have to write certain commands again and again. You can perform daily tasks efficiently and even schedule them for automatic execution."
   ]
  },
  {
   "cell_type": "markdown",
   "metadata": {},
   "source": [
    "### Bash for loop"
   ]
  },
  {
   "cell_type": "markdown",
   "metadata": {},
   "source": [
    "A bash for loop is a bash programming language statement which allows code to be repeatedly executed."
   ]
  },
  {
   "cell_type": "code",
   "execution_count": 20,
   "metadata": {},
   "outputs": [],
   "source": [
    "#!/bin/bash\n",
    "for i in 1 2 3 4 5\n",
    "do\n",
    "   echo \"Welcome $i times\"\n",
    "done"
   ]
  },
  {
   "cell_type": "markdown",
   "metadata": {},
   "source": [
    "Bash v4.0+ has inbuilt support for setting up a step value using {START..END..INCREMENT} syntax:"
   ]
  },
  {
   "cell_type": "code",
   "execution_count": 1,
   "metadata": {},
   "outputs": [
    {
     "ename": "SyntaxError",
     "evalue": "invalid syntax (<ipython-input-1-79930151de21>, line 2)",
     "output_type": "error",
     "traceback": [
      "\u001b[0;36m  File \u001b[0;32m\"<ipython-input-1-79930151de21>\"\u001b[0;36m, line \u001b[0;32m2\u001b[0m\n\u001b[0;31m    echo \"Bash version ${BASH_VERSION}...\"\u001b[0m\n\u001b[0m         ^\u001b[0m\n\u001b[0;31mSyntaxError\u001b[0m\u001b[0;31m:\u001b[0m invalid syntax\n"
     ]
    }
   ],
   "source": [
    "#!/bin/bash\n",
    "echo \"Bash version ${BASH_VERSION}...\"\n",
    "for i in {0..10..2}\n",
    "do\n",
    "  echo \"Welcome $i times\"\n",
    "done"
   ]
  },
  {
   "cell_type": "markdown",
   "metadata": {},
   "source": [
    "A useful loop is used with linux command:"
   ]
  },
  {
   "cell_type": "code",
   "execution_count": null,
   "metadata": {},
   "outputs": [],
   "source": [
    "for OUTPUT in $(Linux-Or-Unix-Command-Here)\n",
    "do\n",
    "    command1 on $OUTPUT\n",
    "    command2 on $OUTPUT\n",
    "    commandN\n",
    "done\n",
    "\n"
   ]
  },
  {
   "cell_type": "markdown",
   "metadata": {},
   "source": [
    "Test the folowing command and comment:"
   ]
  },
  {
   "cell_type": "code",
   "execution_count": null,
   "metadata": {},
   "outputs": [],
   "source": [
    "for OUTPUT in `ls`\n",
    "do\n",
    "    echo $OUTPUT\n",
    "done\n",
    "\n",
    "\n",
    "#For example \n",
    "for OUTPUT in *\n",
    "do\n",
    "    echo $OUTPUT\n",
    "done"
   ]
  },
  {
   "cell_type": "code",
   "execution_count": null,
   "metadata": {},
   "outputs": [],
   "source": []
  },
  {
   "cell_type": "code",
   "execution_count": 22,
   "metadata": {},
   "outputs": [],
   "source": [
    "Exercice:"
   ]
  },
  {
   "cell_type": "markdown",
   "metadata": {},
   "source": [
    "1) Write a shell script in order to create 100 files simui.txt where i is 1<i<100 in the directory \"TP\". Each files has to contain: \"I am the simu number i\""
   ]
  },
  {
   "cell_type": "markdown",
   "metadata": {},
   "source": [
    "2) Destroy all file simui.txt where i a number whcih is ending by 9"
   ]
  },
  {
   "cell_type": "raw",
   "metadata": {},
   "source": [
    "3) You have a problem, the name of file should be resulti.txt where i is format 3d. For example 001, 010, 076, 100.\n",
    "\n",
    "3.1) First, extract the number in each files with # and %\n",
    "A=file*\n",
    "B=${A%.txt}\n",
    "num=${B#file}\n",
    "\n",
    "3.2) convert the extract number with C=$(printf \"%03d\" $num)\n",
    "\n",
    "3.3) write the script file"
   ]
  },
  {
   "cell_type": "markdown",
   "metadata": {},
   "source": [
    "### Function in bash script"
   ]
  },
  {
   "cell_type": "markdown",
   "metadata": {},
   "source": [
    "Sometimes, you may need to use function in bash progrma. The basic syntax of bash with funtion is :"
   ]
  },
  {
   "cell_type": "code",
   "execution_count": null,
   "metadata": {},
   "outputs": [],
   "source": [
    "#!/bin/bash\n",
    "fonctiontest(){\n",
    "   echo \"My first function\"\n",
    "}\n",
    "fonctiontest"
   ]
  },
  {
   "cell_type": "markdown",
   "metadata": {},
   "source": [
    "## How to Use Command Line Arguments in a Bash Script"
   ]
  },
  {
   "cell_type": "raw",
   "metadata": {},
   "source": [
    "Arguments passed to a script are processed in the same order in which they’re sent. The indexing of the arguments starts at one, and the first argument can be accessed inside the script using $1 . Similarly, the second argument can be accessed using $2, and so on. The positional parameter refers to this representation of the arguments using their position.\n",
    "\n",
    "Let’s take an example of the following script, user.sh, which prints username, age, and full name in that order:"
   ]
  },
  {
   "cell_type": "code",
   "execution_count": null,
   "metadata": {},
   "outputs": [],
   "source": []
  },
  {
   "cell_type": "code",
   "execution_count": null,
   "metadata": {},
   "outputs": [],
   "source": [
    "#Let’s take an example of the following script, userReg-positional-parameter.sh, which prints username, age, and full name in that order:\n",
    "#!/bin/bash\n",
    "echo \"Username: $1\";\n",
    "echo \"Age: $2\";\n",
    "echo \"Full Name: $3\";\n",
    "\n",
    "#Now let’s run this script with the three input parameters:\n",
    "\n",
    "./user.sh me 25 'my name'"
   ]
  },
  {
   "cell_type": "markdown",
   "metadata": {},
   "source": [
    "You could use function with argument:"
   ]
  },
  {
   "cell_type": "code",
   "execution_count": null,
   "metadata": {},
   "outputs": [],
   "source": [
    "#!/bin/bash\n",
    "functiontest(){\n",
    "   echo $1\n",
    "   echo $2\n",
    "}\n",
    "fonctiondetest \"Hello\" \"World\""
   ]
  },
  {
   "cell_type": "markdown",
   "metadata": {},
   "source": [
    "exercice: Write a script bash which ask 2 number and return the sum of these 2 number.\n",
    "You could use a \"addition() function\" and the command bash \"read\""
   ]
  },
  {
   "cell_type": "markdown",
   "metadata": {},
   "source": [
    "Example with read: read -p \"Entrez un numéro : \" int1"
   ]
  },
  {
   "cell_type": "code",
   "execution_count": null,
   "metadata": {},
   "outputs": [],
   "source": []
  },
  {
   "cell_type": "markdown",
   "metadata": {},
   "source": [
    "# Good community in internet\n",
    "With the help of internet, give the command of:"
   ]
  },
  {
   "cell_type": "markdown",
   "metadata": {},
   "source": [
    "1) the list of all processus"
   ]
  },
  {
   "cell_type": "code",
   "execution_count": null,
   "metadata": {},
   "outputs": [],
   "source": [
    "htop"
   ]
  },
  {
   "cell_type": "markdown",
   "metadata": {},
   "source": [
    "2) the available storage hdd and ram"
   ]
  },
  {
   "cell_type": "code",
   "execution_count": null,
   "metadata": {},
   "outputs": [],
   "source": [
    "df -h"
   ]
  },
  {
   "cell_type": "markdown",
   "metadata": {},
   "source": [
    "3) the cpu informations"
   ]
  },
  {
   "cell_type": "code",
   "execution_count": null,
   "metadata": {},
   "outputs": [],
   "source": [
    "ls cpu"
   ]
  },
  {
   "cell_type": "markdown",
   "metadata": {},
   "source": [
    "4) Write the following script.sh:\n"
   ]
  },
  {
   "cell_type": "code",
   "execution_count": 35,
   "metadata": {},
   "outputs": [],
   "source": [
    "#!/bin/sh\n",
    "\n",
    "while true\n",
    "\tdo echo \"Hello\"\n",
    "\tsleep 1\n",
    "done"
   ]
  },
  {
   "cell_type": "markdown",
   "metadata": {},
   "source": [
    "You can stop softly the program with ctrl+C. This command send a signal to your process"
   ]
  },
  {
   "cell_type": "markdown",
   "metadata": {},
   "source": [
    "To use script.sh in background, : ./script.sh & \n"
   ]
  },
  {
   "cell_type": "markdown",
   "metadata": {},
   "source": [
    "It's funny, the process is still running.\n",
    "kill the program with the command \"kill\""
   ]
  },
  {
   "cell_type": "markdown",
   "metadata": {},
   "source": [
    "5) Do a symbolic link of a file with  \"ln -s\" command"
   ]
  },
  {
   "cell_type": "code",
   "execution_count": null,
   "metadata": {},
   "outputs": [],
   "source": []
  },
  {
   "cell_type": "markdown",
   "metadata": {},
   "source": [
    "# Python in shell"
   ]
  },
  {
   "cell_type": "markdown",
   "metadata": {},
   "source": [
    "1) With text editor like nano or vim. Write a python code \"code.py\" which test if a number is pair or not "
   ]
  },
  {
   "cell_type": "markdown",
   "metadata": {},
   "source": [
    "2) Test your script which the command 'python code.py' "
   ]
  },
  {
   "cell_type": "code",
   "execution_count": null,
   "metadata": {},
   "outputs": [],
   "source": []
  }
 ],
 "metadata": {
  "celltoolbar": "Slideshow",
  "kernelspec": {
   "display_name": "Python 3 (ipykernel)",
   "language": "python",
   "name": "python3"
  },
  "language_info": {
   "codemirror_mode": {
    "name": "ipython",
    "version": 3
   },
   "file_extension": ".py",
   "mimetype": "text/x-python",
   "name": "python",
   "nbconvert_exporter": "python",
   "pygments_lexer": "ipython3",
   "version": "3.10.6"
  }
 },
 "nbformat": 4,
 "nbformat_minor": 1
}
