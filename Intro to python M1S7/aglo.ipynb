{
 "cells": [
  {
   "cell_type": "markdown",
   "metadata": {
    "slideshow": {
     "slide_type": "slide"
    }
   },
   "source": [
    "# Algorithm"
   ]
  },
  {
   "cell_type": "markdown",
   "metadata": {},
   "source": [
    "## Problem -1"
   ]
  },
  {
   "cell_type": "markdown",
   "metadata": {},
   "source": [
    "Listening to music can be very pleasant, but when a piece is really very repetitive, it sometimes happens that you get a little bored. So the musical composition teacher at the conservatory has decided to impose a very strict rule: when he rereads the pieces composed by his students, as soon as he sees two identical notes side by side, he erases them both! It thus continues to erase as long as there are two consecutive equal notes.\n",
    "\n",
    "This work being long and tedious, he wonders if it is not possible to automate it.\n",
    "What your program should do:\n",
    "\n",
    "Musical notes are represented by the letters 'a', 'b', 'c', 'd', 'e', ​​'f' and 'g'.\n",
    "\n",
    "Your program should read a single line of text representing the piece of music (consisting of less than 500 notes) and should display the \"corrected\" version of the piece where all duplicates are removed as long as any exist.\n",
    "\n",
    "Example\n",
    "\n",
    "hall :\n",
    "\n",
    "baaabbacddc\n",
    "\n",
    "exit :\n",
    "\n",
    "b\n",
    "\n",
    "Comments\n",
    "\n",
    "On the example given, a possible sequence of elimination of duplicates is as follows:\n",
    "\n",
    "baaabbacddc  \n",
    "baaabbacc  \n",
    "babbacc  \n",
    "babba  \n",
    "baa  \n",
    "b  \n",
    "\n"
   ]
  },
  {
   "cell_type": "markdown",
   "metadata": {},
   "source": [
    "## Problem 1"
   ]
  },
  {
   "cell_type": "markdown",
   "metadata": {},
   "source": [
    "\n",
    "Your objective is to find the largest square of O in the matrix \n",
    "TIME AND MEMORY LIMITS (Python)\n",
    "\n",
    "Time: 2s we have 1GHz machine.\n",
    "Memory: 64,000 KB.\n",
    "\n",
    "CONSTRAINED\n",
    "\n",
    "1 <= nbLines, nbColumns <= 350\n",
    "INPUT\n",
    "\n",
    "On the first line: two integers nbLines and nbColumns\n",
    "The following nbLines lines each include integer nbColumns between 0 and 1 separated by spaces. \n",
    "\n",
    "OUTPUT\n",
    "\n",
    "A unique integer: the maximum size of the side of a square containing only 0s and whose edges are parallel to the axes.\n",
    "\n",
    "\n"
   ]
  },
  {
   "cell_type": "markdown",
   "metadata": {},
   "source": [
    "EXAMPLES\n",
    "EXAMPLE 1\n",
    "\n",
    "input:\n",
    "\n",
    "6 7  \n",
    "1 0 0 1 0 0 1  \n",
    "0 0 0 0 0 0 0  \n",
    "1 0 0 0 0 0 0  \n",
    "0 0 0 0 0 0 0  \n",
    "0 1 0 0 0 0 1  \n",
    "1 0 0 0 1 0 1  \n",
    "\n",
    "output:\n",
    "\n",
    "4\n",
    "\n",
    "EXAMPLE 2\n",
    "\n",
    "input:\n",
    "\n",
    "5 7  \n",
    "0 0 0 1 1 1 1  \n",
    "0 0 0 1 1 1 1  \n",
    "0 0 0 1 1 1 1  \n",
    "1 1 1 1 1 0 0  \n",
    "1 1 1 1 1 0 0  \n",
    "\n",
    "output:\n",
    "\n",
    "3"
   ]
  },
  {
   "cell_type": "markdown",
   "metadata": {},
   "source": [
    "# Problem 2"
   ]
  },
  {
   "cell_type": "markdown",
   "metadata": {},
   "source": [
    "\n",
    "\n",
    "A very manic greengrocer wants to store his peas by grouping them into boxes so that each box contains a factorial number of peas. We recall that a number is factorial if it is of the form 1, 1 x 2, 1 x 2 x 3, 1 x 2 x 3 x 4... and that we note them in the following form:\n",
    "n!=1×2×3×…×(n−1)×n\n",
    "\n",
    "He also wants to use as few boxes as possible.\n",
    "\n",
    "So, if he has 17 peas, he will use:\n",
    "\n",
    "2 boxes of 3! = 6 peas\n",
    "2 boxes of 2! = 2 peas\n",
    "1 box of 1! = 1 pea\n",
    "\n",
    "which is 2 x 3! + 2x2! + 1x1! = 12 + 4 + 1 = 17.\n",
    "\n",
    "In general, if he has nbPeas, he must find a sequence a1,a2,…,ap\n",
    "of positive or zero integers with ap>0 and such that:\n",
    "nbSmallPeas=a1×1!+a2×2!+…+ap×p!\n",
    "with a1+…+ap minimal.\n",
    "\n",
    "TIME AND MEMORY LIMITS (Python)\n",
    "Time: 0.5s we have 1GHz machine.\n",
    "Memory: 8,000 KB.\n",
    "\n",
    "CONSTRAINED\n",
    "\n",
    "1<= nbPeas <= 500,000,000\n",
    "INPUT\n",
    "\n",
    "A single integer, nbSmallPeas the total number of small weights.\n",
    "OUTPUT\n",
    "\n",
    "On the first line, the integer p\n",
    "On the second line, the integers a1,a2,…,ap  \n",
    "\n",
    "EXAMPLE  \n",
    "\n",
    "input:  \n",
    "\n",
    "17\n",
    "\n",
    "output:  \n",
    "\n",
    "3\n",
    "1 2 2\n",
    "\n"
   ]
  },
  {
   "cell_type": "markdown",
   "metadata": {},
   "source": [
    "# Problem 3"
   ]
  },
  {
   "cell_type": "markdown",
   "metadata": {},
   "source": [
    "You have discovered a very fun new game. This is played on a board of N aligned squares numbered from 1 to N on which tokens can be placed.\n",
    "\n",
    "At any time, each space contains at most one token.\n",
    "A square containing a token is said to be filled, a square containing none is said to be empty.\n",
    "At the start of the game, all spaces are filled.\n",
    "\n",
    "The rules of the game are as follows:\n",
    "\n",
    "1) At any time, you can empty or fill box 1.\n",
    "\n",
    "2) If box 1 is filled, then you can fill or empty box 2. (Rule valid for N >= 2)\n",
    "For any 3 <= K <= N, we can fill or empty box K when the first K - 2 boxes are empty and box K - 1 is filled. (Rule valid for N >= 3)\n",
    "\n",
    "3) The object of the game is to clear all the boxes. You have decided to write a program to solve the game in a minimum of moves.\n",
    "TIME AND MEMORY LIMITS (Python)\n",
    "\n",
    "Time: 1.5s we have 1GHz machine.\n",
    "Memory: 4,000 KB.\n",
    "\n",
    "CONSTRAINED\n",
    "\n",
    "1 <= N <= 18, where N is the number of squares on the board.\n",
    "\n",
    "INPUT\n",
    "\n",
    "The input is made up of a single integer: N, the number of squares on the board.\n",
    "OUTPUT\n",
    "\n",
    "Your program should display P lines, with P the minimum number of moves needed to complete the game.\n",
    "\n",
    "Each of the P lines must contain an integer Pi between 1 and N, describing the ith move of your sequence, by the index of the square filled or emptied at this move.  \n",
    "EXAMPLE\n",
    "\n",
    "input:\n",
    "\n",
    "4\n",
    "\n",
    "output:\n",
    "\n",
    "2\n",
    "1\n",
    "4\n",
    "1\n",
    "2\n",
    "1\n",
    "3\n",
    "1\n",
    "2\n",
    "1\n",
    "\n",
    "COMMENTS  \n",
    "This is to solve the game for N = 4. It takes at least 10 moves to solve the game.\n",
    "\n",
    "Here is a representation corresponding to the sequence described by the example output:"
   ]
  },
  {
   "cell_type": "markdown",
   "metadata": {},
   "source": [
    "<img src=\"images/baguenaudier.png\" style=\"width: 100px;\"/>"
   ]
  }
 ],
 "metadata": {
  "hide_input": false,
  "kernelspec": {
   "display_name": "Python 3 (ipykernel)",
   "language": "python",
   "name": "python3"
  },
  "language_info": {
   "codemirror_mode": {
    "name": "ipython",
    "version": 3
   },
   "file_extension": ".py",
   "mimetype": "text/x-python",
   "name": "python",
   "nbconvert_exporter": "python",
   "pygments_lexer": "ipython3",
   "version": "3.10.6"
  },
  "latex_envs": {
   "LaTeX_envs_menu_present": true,
   "autoclose": false,
   "autocomplete": true,
   "bibliofile": "biblio.bib",
   "cite_by": "apalike",
   "current_citInitial": 1,
   "eqLabelWithNumbers": true,
   "eqNumInitial": 1,
   "hotkeys": {
    "equation": "Ctrl-E",
    "itemize": "Ctrl-I"
   },
   "labels_anchors": false,
   "latex_user_defs": false,
   "report_style_numbering": false,
   "user_envs_cfg": false
  }
 },
 "nbformat": 4,
 "nbformat_minor": 4
}
